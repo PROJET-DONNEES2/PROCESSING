{
 "cells": [
  {
   "cell_type": "code",
   "execution_count": 29,
   "metadata": {
    "ExecuteTime": {
     "start_time": "2023-08-15T21:31:50.964137Z",
     "end_time": "2023-08-15T21:31:51.003004Z"
    }
   },
   "outputs": [],
   "source": [
    "import pandas as pd"
   ]
  },
  {
   "cell_type": "code",
   "execution_count": 30,
   "metadata": {
    "ExecuteTime": {
     "end_time": "2023-08-15T19:39:13.210950Z",
     "start_time": "2023-08-15T19:39:13.158991Z"
    }
   },
   "outputs": [],
   "source": [
    "df = pd.read_csv(\"adzuna-main.csv\")"
   ]
  },
  {
   "cell_type": "code",
   "execution_count": 31,
   "metadata": {
    "ExecuteTime": {
     "start_time": "2023-08-15T21:31:56.991317Z",
     "end_time": "2023-08-15T21:31:57.017570Z"
    }
   },
   "outputs": [],
   "source": [
    "# On va grouper les salaires min et max par job\n",
    "grouped_df = df.groupby('title').agg({'salary_min': 'min', 'salary_max': 'max'})"
   ]
  },
  {
   "cell_type": "code",
   "execution_count": 32,
   "metadata": {
    "ExecuteTime": {
     "start_time": "2023-08-15T21:31:58.665865Z",
     "end_time": "2023-08-15T21:31:58.694634Z"
    }
   },
   "outputs": [],
   "source": [
    "# Le poste à pourvoir (mode)\n",
    "job_mode = df['title'].mode()[0]"
   ]
  },
  {
   "cell_type": "code",
   "execution_count": 33,
   "metadata": {
    "ExecuteTime": {
     "start_time": "2023-08-15T21:32:00.448009Z",
     "end_time": "2023-08-15T21:32:00.469441Z"
    }
   },
   "outputs": [],
   "source": [
    "# Le nombre d'alternances\n",
    "alternance_count = df['title'].str.contains('alternance', case=False).sum()"
   ]
  },
  {
   "cell_type": "code",
   "execution_count": 34,
   "metadata": {
    "ExecuteTime": {
     "start_time": "2023-08-15T21:32:01.990829Z",
     "end_time": "2023-08-15T21:32:02.051783Z"
    }
   },
   "outputs": [],
   "source": [
    "# On va les mettre par ordre décroissant pour le salaire max\n",
    "most_paid = grouped_df.sort_values(by=\"salary_max\",ascending=False)"
   ]
  },
  {
   "cell_type": "code",
   "execution_count": 35,
   "metadata": {
    "ExecuteTime": {
     "start_time": "2023-08-15T21:32:03.645579Z",
     "end_time": "2023-08-15T21:32:03.678619Z"
    }
   },
   "outputs": [],
   "source": [
    "# Compter le nombre d'offres par localisation\n",
    "location_df = df.groupby(['location', 'title']).size().reset_index(name='offers')"
   ]
  },
  {
   "cell_type": "code",
   "execution_count": 36,
   "metadata": {
    "ExecuteTime": {
     "start_time": "2023-08-15T21:32:06.509813Z",
     "end_time": "2023-08-15T21:32:06.576787Z"
    }
   },
   "outputs": [],
   "source": [
    "# Les offres les plus demandés à partir de location_df\n",
    "location_df.sort_values(by=\"offers\", ascending=False)"
   ]
  }
 ],
 "metadata": {
  "kernelspec": {
   "display_name": "Python 3 (ipykernel)",
   "language": "python",
   "name": "python3"
  },
  "language_info": {
   "codemirror_mode": {
    "name": "ipython",
    "version": 3
   },
   "file_extension": ".py",
   "mimetype": "text/x-python",
   "name": "python",
   "nbconvert_exporter": "python",
   "pygments_lexer": "ipython3",
   "version": "3.10.9"
  }
 },
 "nbformat": 4,
 "nbformat_minor": 1
}
