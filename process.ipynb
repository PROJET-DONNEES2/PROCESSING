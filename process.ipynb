{
 "cells": [
  {
   "cell_type": "code",
   "execution_count": 12,
   "id": "d1d061d3",
   "metadata": {},
   "outputs": [],
   "source": [
    "import boto3\n",
    "import os\n",
    "\n",
    "# Remplacez ces valeurs par vos propres informations d'identification AWS\n",
    "aws_access_key = ''\n",
    "aws_secret_key = ''\n",
    "region_name = ''  # par exemple, 'us-east-1'\n",
    "\n",
    "# Créez une session boto3 avec les informations d'identification\n",
    "session = boto3.Session(\n",
    "    aws_access_key_id=aws_access_key,\n",
    "    aws_secret_access_key=aws_secret_key,\n",
    "    region_name=region_name\n",
    ")\n",
    "\n",
    "# Utilisez la session pour créer un objet S3 resource et accéder au bucket\n",
    "s3_resource = session.resource('s3')\n",
    "my_bucket = s3_resource.Bucket('jobs-analysis')\n",
    "\n",
    "download_directory = '/run/media/dinasoa/b4c37e5f-ad8f-4388-a46b-666dc08d1a12/COURS_HEI/DONNEES2/'  # Remplacez par le chemin que vous souhaitez\n",
    "objects = my_bucket.objects.filter(Prefix='adzuna/')\n",
    "for obj in objects:\n",
    "    path, filename = os.path.split(obj.key)\n",
    "    local_path = os.path.join(download_directory, filename)\n",
    "    try:\n",
    "        my_bucket.download_file(obj.key, local_path)\n",
    "        print(f\"Fichier '{obj.key}' téléchargé avec succès vers '{local_path}'.\")\n",
    "    except Exception as e:\n",
    "        print(f\"Erreur lors du téléchargement de '{obj.key}': {e}\")\n"
   ]
  }
 ],
 "metadata": {
  "kernelspec": {
   "display_name": "Python 3 (ipykernel)",
   "language": "python",
   "name": "python3"
  },
  "language_info": {
   "codemirror_mode": {
    "name": "ipython",
    "version": 3
   },
   "file_extension": ".py",
   "mimetype": "text/x-python",
   "name": "python",
   "nbconvert_exporter": "python",
   "pygments_lexer": "ipython3",
   "version": "3.10.9"
  }
 },
 "nbformat": 4,
 "nbformat_minor": 5
}
